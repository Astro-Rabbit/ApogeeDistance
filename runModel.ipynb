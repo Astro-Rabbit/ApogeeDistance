{
 "cells": [
  {
   "cell_type": "code",
   "execution_count": null,
   "metadata": {
    "collapsed": true
   },
   "outputs": [],
   "source": [
    "import matplotlib.pyplot as plt\n",
    "import pandas as pd\n",
    "import tensorflow as tf\n",
    "import numpy as np"
   ]
  },
  {
   "cell_type": "markdown",
   "source": [
    "First I import that data and selectivly cut off all stars with a relative parallax error above a threshold of  0.15.  \n",
    "I've included the full dataset, and the training & test sets (That have had the binaries cut off )"
   ],
   "metadata": {
    "collapsed": false
   }
  },
  {
   "cell_type": "code",
   "execution_count": null,
   "outputs": [],
   "source": [
    "filename = 'Full_DATA_r12.csv'  # file with data.\n",
    "data = pd.read_csv(filename)\n",
    "cutoff = 0.15  # Set this to the maximum allowed relative error\n",
    "data = data[(data['Parallax_error'] < cutoff)]"
   ],
   "metadata": {
    "collapsed": false,
    "pycharm": {
     "name": "#%%\n"
    }
   }
  },
  {
   "cell_type": "markdown",
   "source": [
    "Now we have to cut all the extra data that model doesn't use for predictions but that we still may want for \n",
    "plotting \n",
    "\n"
   ],
   "metadata": {
    "collapsed": false
   }
  },
  {
   "cell_type": "code",
   "execution_count": null,
   "outputs": [],
   "source": [
    "Apparent = data.pop('Apparent')\n",
    "Extinction = data.pop('Extinction')\n",
    "parallax_error = data.pop('Parallax_error')\n",
    "parallax = data.pop('parallax')\n",
    "g = data.pop('G')\n",
    "G_mag = g - 5 * np.log10((1/(parallax/1000)) / 10)\n",
    "BP = data.pop('BP')\n",
    "RP = data.pop('RP')\n",
    "vscatter = data.pop('vscatter')\n",
    "\n",
    "\n",
    "distance = (1/(parallax/1000))  # in Parsecs\n",
    "\n",
    "labels = data.pop('Abs_MAG')  # This is the true values of what the model is predicting"
   ],
   "metadata": {
    "collapsed": false,
    "pycharm": {
     "name": "#%%\n"
    }
   }
  },
  {
   "cell_type": "markdown",
   "source": [
    "Next I normalize the data using the stats used during the training of the model."
   ],
   "metadata": {
    "collapsed": false
   }
  },
  {
   "cell_type": "code",
   "execution_count": null,
   "outputs": [],
   "source": [
    "train_stats = pd.read_csv('trainstats.csv')  # reads file with stats used during model training\n",
    "\n",
    " \n",
    "\n",
    "def norm(x):\n",
    "    return (x - train_stats['mean']) / train_stats['std']\n",
    "\n",
    "normed_data = norm(data)"
   ],
   "metadata": {
    "collapsed": false,
    "pycharm": {
     "name": "#%%\n"
    }
   }
  },
  {
   "cell_type": "markdown",
   "source": [
    "Finally I load the model and make predictions based off the data"
   ],
   "metadata": {
    "collapsed": false
   }
  },
  {
   "cell_type": "code",
   "execution_count": null,
   "outputs": [],
   "source": [
    "modelfile = 'singlelayerNet_15perc_cutBinaries.h5'  # file that contains the trained model\n",
    "\n",
    "model = tf.keras.models.load_model(modelfile)  # loads model into Tensorflow model object\n",
    "\n",
    "predictions = model.predict(normed_data).flatten()  # uses data with model to predict the absolute magnitude of stars\n",
    "\n",
    "distance_prediction = 10*10**((predictions+Extinction-Apparent)/-5)\n",
    "\n",
    "distance_regression = (distance - distance_prediction) / distance\n"
   ],
   "metadata": {
    "collapsed": false,
    "pycharm": {
     "name": "#%%\n"
    }
   }
  },
  {
   "cell_type": "markdown",
   "source": [
    "Note: The model can takes any N x 3 array with the coulnms being TEFF, Grav, and Metal (In that order and normalized)\n",
    "and still work. "
   ],
   "metadata": {
    "collapsed": false,
    "pycharm": {
     "name": "#%% md\n"
    }
   }
  },
  {
   "cell_type": "markdown",
   "source": [
    "I've also included some of the plotting routines that I use below as functions"
   ],
   "metadata": {
    "collapsed": false
   }
  },
  {
   "cell_type": "code",
   "execution_count": null,
   "outputs": [],
   "source": [
    "\n",
    "def plot_hr(Mag):\n",
    "    \"\"\"\n",
    "    Creates an HR diagram for data. \n",
    "    \n",
    "    :param Mag: Enter either the labels array to see the true HR diagram, \n",
    "    or enter the Mag predictions that come out of the model\n",
    "    \"\"\"\n",
    "    \n",
    "    plt.figure()\n",
    "    plt.scatter(data['TEFF'], Mag, alpha=0.1, s = 0.1)\n",
    "    plt.xlim(7500, 3000)\n",
    "    plt.xscale('log')\n",
    "    plt.ylim(10, -12)\n",
    "    plt.xlabel('Temp (k)')\n",
    "    plt.ylabel('Absolute Magnitude (K-band)')\n",
    "    plt.title('HR diagram')\n",
    "    plt.show()\n",
    "\n"
   ],
   "metadata": {
    "collapsed": false,
    "pycharm": {
     "name": "#%%\n"
    }
   }
  },
  {
   "cell_type": "code",
   "execution_count": null,
   "outputs": [],
   "source": [
    "def regression_pergrav():\n",
    "    \"\"\"\n",
    "    Makes 5 regression plots for binnings of log(G)\n",
    "\n",
    "    \"\"\"\n",
    "    for i in range(1, 6):\n",
    "        plt.figure()\n",
    "        plt.scatter(distance[(data['Grav'] < i) & (data['Grav'] > i - 1)],\n",
    "                    distance_regression[(data['Grav'] < i) & (data['Grav'] > i - 1)], s=0.01)\n",
    "        plt.ylim([-1, 1])\n",
    "        plt.xlim([-100, 4000])\n",
    "        plt.title('regression plot for Grav:' + str(i))\n",
    "        plt.show()"
   ],
   "metadata": {
    "collapsed": false,
    "pycharm": {
     "name": "#%%\n"
    }
   }
  },
  {
   "cell_type": "code",
   "execution_count": null,
   "outputs": [],
   "source": [
    "def plot_regression_hist():\n",
    "    \"\"\"\n",
    "    Makes 5 regression histogram plots for binnings of log(G)\n",
    "\n",
    "    \"\"\"\n",
    "    for i in range(1, 6):\n",
    "        plt.figure()\n",
    "        plt.hist(distance_regression[(data['Grav'] < i) & (data['Grav'] > i - 1)], bins=200)\n",
    "        plt.title('regression histogram for Grav:' + str(i) + ' -No flattening model')\n",
    "        plt.xlim(-1, 1)\n",
    "        plt.show()\n"
   ],
   "metadata": {
    "collapsed": false,
    "pycharm": {
     "name": "#%%\n"
    }
   }
  }
 ],
 "metadata": {
  "kernelspec": {
   "display_name": "Python 3",
   "language": "python",
   "name": "python3"
  },
  "language_info": {
   "codemirror_mode": {
    "name": "ipython",
    "version": 2
   },
   "file_extension": ".py",
   "mimetype": "text/x-python",
   "name": "python",
   "nbconvert_exporter": "python",
   "pygments_lexer": "ipython2",
   "version": "2.7.6"
  },
  "pycharm": {
   "stem_cell": {
    "cell_type": "raw",
    "source": [],
    "metadata": {
     "collapsed": false
    }
   }
  }
 },
 "nbformat": 4,
 "nbformat_minor": 0
}